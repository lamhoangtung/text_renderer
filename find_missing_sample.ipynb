{
 "cells": [
  {
   "cell_type": "code",
   "execution_count": 1,
   "metadata": {},
   "outputs": [],
   "source": [
    "import os\n",
    "import glob\n",
    "from tqdm import tqdm\n",
    "import cv2\n",
    "\n",
    "data_path = '/tmp/text_renderer/output/randomize_400k_1/'"
   ]
  },
  {
   "cell_type": "code",
   "execution_count": 2,
   "metadata": {},
   "outputs": [
    {
     "data": {
      "text/plain": [
       "['00004168 CÚ VA CHẠM MẠNH KHIẾN XƯƠNG CHÂN PHẢI ANH BỊ GÃY NGANG, ANH MINH NGÃ QUỴ XUỐNG ĐƯỜNG.',\n",
       " '00002084 THEO PHƯƠNG ÁN NÀY, THỜI GIAN NGHỈ TẾT QUÝ TỴ SẼ TỪ NGÀY 9-17.2.2013.',\n",
       " '00006252 VÌ VẬY, DƯ LUẬN XUNG QUANH ĐÃ ĐẶT NGHI VẤN BÀ HƯỜNG GIẾT BÀ HÀ ĐỂ QUỴT NỢ.',\n",
       " '00000000 Video: Hiện trường vụ nam thanh niên bị tai nạn máy cưa Đắk Lắk Người dân nơi đây cho biết, vào khoảng 11h30 cùng ngày, tại xưởng cưa gỗ của vợ chồng ',\n",
       " '00002085 HAI MƯƠI BA THÁNG CHẠP, HÀ NỘI TRƯỚC THỀM NĂM MỚI QUÝ TỴ CÓ GÌ ĐÓ KHÁC LẠ SO VỚI NHIỀU NĂM NAY.',\n",
       " '00014588 NGÀY 27/12, SỞ VH-TT-DL ĐÀ NẴNG CHO HAY, CHỈ TÍNH TRONG TUẦN TẾT NGUYÊN ĐÁN QUÝ TỴ 2013 (TỪ NGÀY 8 ĐẾN 14/2, TỨC TỪ 28 THÁNG CHẠP ĐẾN MỒNG 5 TẾT) SẼ L',\n",
       " '00025008 NDĐT- SÁNG NGÀY 15-9, TẠI CÔNG VIÊN SÔNG HÀN (TP ĐÀ NẴNG), BỘ TÀI NGUYÊN VÀ MÔI TRƯỜNG, TỔNG LIÊN ĐOÀN LAO ĐỘNG VIỆT NAM VÀ UBND TP ĐÀ NẴNG TỔ CHỨC LỄ',\n",
       " '00014589 TẬP TRUNG TẤN CÔNG TRẤN ÁP TỘI PHẠM TRONG DỊP TẾT QUÝ TỴ 2013.',\n",
       " '00016672 NGÀY ẤY, MỖI LẦN GHÉ QUA TÒA SOẠN, NƠI THẠCH LAM ĐANG LÀM VIỆC, DÙ RẤT MUỐN NÓI CHUYỆN VỚI NHÀ VĂN NHƯNG CÔ GÁI MINH MỴ LẠI SỢ LÀM PHIỀN NHÀ VĂN NÊN T',\n",
       " '00018756 KHU VỰC NÀY CÓ MỘT BỨC TƯỜNG RỘNG CHOÁNG NGỢP MÀU XANH, MỘT KHÔNG GIAN TRÀN NGẬP TIA X-QUANG SÁNG LÓA VÀ MỘT VÁN TRƯỢT HAI CHIỀU ĐƯA NHỮNG KỴ SỸ LƯỚT ']"
      ]
     },
     "execution_count": 2,
     "metadata": {},
     "output_type": "execute_result"
    }
   ],
   "source": [
    "anno = open(os.path.join(data_path, 'tmp_labels.txt'), 'r').read().split('\\n')\n",
    "anno[:10]"
   ]
  },
  {
   "cell_type": "code",
   "execution_count": 3,
   "metadata": {},
   "outputs": [
    {
     "data": {
      "text/plain": [
       "('00004168',\n",
       " 'CÚ VA CHẠM MẠNH KHIẾN XƯƠNG CHÂN PHẢI ANH BỊ GÃY NGANG, ANH MINH NGÃ QUỴ XUỐNG ĐƯỜNG.')"
      ]
     },
     "execution_count": 3,
     "metadata": {},
     "output_type": "execute_result"
    }
   ],
   "source": [
    "anno[0][:8], anno[0][9:] "
   ]
  },
  {
   "cell_type": "code",
   "execution_count": 4,
   "metadata": {},
   "outputs": [
    {
     "name": "stderr",
     "output_type": "stream",
     "text": [
      "100%|██████████| 67042/67042 [00:00<00:00, 1010186.59it/s]\n"
     ]
    }
   ],
   "source": [
    "generated = {}\n",
    "for each in tqdm(anno[:-1]):\n",
    "    generated[int(each[:8])] = each[9:]"
   ]
  },
  {
   "cell_type": "code",
   "execution_count": 5,
   "metadata": {},
   "outputs": [
    {
     "data": {
      "text/plain": [
       "['Video: Hiện trường vụ nam thanh niên bị tai nạn máy cưa Đắk Lắk Người dân nơi đây cho biết, vào khoảng 11h30 cùng ngày, tại xưởng cưa gỗ của vợ chồng ông bà Ngọc Đôn (trú thôn Ea Krôm, xã Cư Né, huyện Krông Buk), anh Ỵ Jet Mlô (SN 1995, trú cùng địa phương) trong lúc đứng cưa gỗ bị trượt chân lao vào lưỡi máy cưa.',\n",
       " 'Nhưng bố mẹ là của chung nên vợ kiếm được tiền phải phụng dưỡng bố mẹ, mà ưu tiên bố mẹ chồng trước hết, vì dâu con mới thực sự là con... CHÁN....VỢ ĐÒI LI DỴ - Chồng đòi nuôi con, vì đó là thằng cháu đích tôn của dòng họ nội \"cô muốn đi đâu thì đi, để con lại cho tôi nuôi\" Vợ không dám bỏ con nên phải xin lỗi chồng vì đã nông nổi để được sống cùng với gia đình.',\n",
       " '* Ngày 28-6, Phó Chủ tịch Quốc hội (QH) ĐỖ BÁ TỴ cùng Đoàn đại biểu QH tỉnh Lào Cai tiếp xúc cử tri tại huyện Mường Khương.',\n",
       " 'KỴ SỸ VÀ TIỂU XẢO Cũng giống như nghề chăn nuôi ngựa chiến truyền thống từ đời cha ông, hầu hết các nài ngựa đều là con em chủ ngựa hoặc là người dân vùng nuôi ngựa.',\n",
       " 'PV: Ca khúc Only One là bài hát hay và phổ biến nhưng trong hoàn cảnh JỴJ đang bị hạn chế xuất hiện trên truyền hình Hàn Quốc thì làm thế nào để ca khúc được quảng bá hiệu quả?',\n",
       " 'Tuy vậy, cho tới lúc này, Chelsea mới có 3 bản hợp đồng mới, đó là tiền vêỴuri Zhirkov, thủ môn Ross Turnbull và tiền đạo Daniel Sturridge.',\n",
       " 'HỘI THẢO ĐẶC BIỆT CHO ÔNG BỐ, BÀ MẸ CÓ CON TRONG NĂM QUÝ TỴ Sinh con khỏe mạnh là mong ước của tất cả các bà mẹ.',\n",
       " '* Chiều 24-7, tại Nhà Quốc hội (QH), Phó Chủ tịch QH ĐỖ BÁ TỴ gặp mặt Đoàn đại biểu QH tỉnh Vĩnh Long qua các thời kỳ, nhân dịp Đoàn ra thăm Thủ đô Hà Nội.',\n",
       " 'Nhằm nâng cao sự hiểu biết của cộng đồng về cách nhận diện và cấp cứu đột quỵ, Bệnh viện Đại học Y dược TP tổ chức chương trình Tư vấn phòng chống đột quỵ, nhân ngày đột quỵ thế giới 29/10, với chủ đề ĐỪNG GỤC NGÃ VÌ ĐỘT QUỴ .',\n",
       " 'MẸO NHỎ ĐỂ PHÁT HIỆN NGƯỜI ĐỘT QUỴ (STROKE): Những người chung quanh có thể phát hiện một cơn đột quỵ bằng 3 bước đơn giản sau đây: S* (Smile Cười): Yêu cầu người ấy cười T* (Talk Nói): Yêu cầu người ấy nói một câu thông thường.']"
      ]
     },
     "execution_count": 5,
     "metadata": {},
     "output_type": "execute_result"
    }
   ],
   "source": [
    "corpus_path = '/tmp/text_renderer/data/corpus/extracted_300k.txt'\n",
    "raw_corpus = open(corpus_path, 'r').read().split('\\n')[:133334]\n",
    "raw_corpus[:10]"
   ]
  },
  {
   "cell_type": "code",
   "execution_count": 6,
   "metadata": {},
   "outputs": [
    {
     "data": {
      "text/plain": [
       "133334"
      ]
     },
     "execution_count": 6,
     "metadata": {},
     "output_type": "execute_result"
    }
   ],
   "source": [
    "len(raw_corpus)"
   ]
  },
  {
   "cell_type": "code",
   "execution_count": 11,
   "metadata": {},
   "outputs": [
    {
     "name": "stderr",
     "output_type": "stream",
     "text": [
      "133334it [01:09, 1917.60it/s]\n"
     ]
    }
   ],
   "source": [
    "generated_index = list(generated.keys())\n",
    "missing_corpus = []\n",
    "for index, text in tqdm(enumerate(raw_corpus)):\n",
    "    if index not in generated_index:\n",
    "        missing_corpus.append(text)"
   ]
  },
  {
   "cell_type": "code",
   "execution_count": 12,
   "metadata": {},
   "outputs": [
    {
     "data": {
      "text/plain": [
       "66292"
      ]
     },
     "execution_count": 12,
     "metadata": {},
     "output_type": "execute_result"
    }
   ],
   "source": [
    "len(missing_corpus)"
   ]
  },
  {
   "cell_type": "code",
   "execution_count": 13,
   "metadata": {},
   "outputs": [
    {
     "data": {
      "text/plain": [
       "66292"
      ]
     },
     "execution_count": 13,
     "metadata": {},
     "output_type": "execute_result"
    }
   ],
   "source": [
    "len(raw_corpus)-len(generated_index)"
   ]
  },
  {
   "cell_type": "code",
   "execution_count": 14,
   "metadata": {},
   "outputs": [
    {
     "data": {
      "text/plain": [
       "['VIỆC KHAI THÁC GỖ ĐỂ ĐẼO TƯỢNG CÓ KIÊNG KỴ, NẾU ĐÊM NGỦ HỌ MƠ THẤY NHÀ CHÁY, BẾN NƯỚC CẠN KIỆT THÌ SÁNG HÔM SAU SẼ HOÃN LẠI VIỆC LẤY GỖ, TRONG KHI ĐI VÀO RỪNG LẤY GỖ NẾU GẶP RẮN BÒ NGANG QUA ĐƯỜNG THÌ HỌ QUAY VỀ NGAY, NGƯỜI TA CHO ĐÓ LÀ ĐIỀM KHÔNG LÀNH, DỄ CÓ CHUYỆN XẤU XẢY RA.',\n",
       " 'MỚI HÔM RỒI, ĐỌC BÁO THẤY CÓ ĐÁM CƯỚI Ở MỘT TỈNH TẠI BẮC TRUNG BỘ, DỰNG RẠP HẾT 10 NGÀY VỚI THIẾT KẾ VÀ CHI PHÍ ĐẾN HÀNG TRĂM TRIỆU ĐỒNG; THUÊ MC, CA SĨ VÀ MÂM CỖ TỐN HÀNG TỶ ĐỒNG; TRAO SỔ ĐỎ BIỆT THỰ, Ô TÔ XỊN VÀ QUÁ TRỜI VÀNG CHO CÔ DÂU CHÚ RỂ... ĐÁM CƯỚI KHIẾN NHIỀU NGƯỜI CHOÁNG NGỢP VÌ ĐỘ HOÀNH TRÁNG, ĐỘ KHOE MẼ Ở MỘT HUYỆN LỴ NHỎ.',\n",
       " 'TRÊN THỰC TẾ, GLAZER ĐÃ KHÔNG CÒN ĐIỀU HÀNH CÔNG VIỆC SAU KHI ÔNG BỊ ĐỘT QUỴ HỒI THÁNG 4/2006.',\n",
       " 'NGÀY TRƯỚC, MẤY Ả CÙNG LỚP THƯỜNG GHEN TỴ VỚI NHỮNG MÓN QUÀ MÀ EM ĐƯỢC BẠN TRAI TẶNG.',\n",
       " 'ÔNG TRẦN VĂN TỴ, GIÁM ĐỐC CÔNG TY TNHH HƯNG PHƯỚC BỨC XÚC VÌ DOANH NGHIỆP SẢN XUẤT TĂM TRE CỦA MÌNH CHỦ YẾU LÀM VIỆC TỪ THIỆN, CÔNG NHÂN PHẦN LỚN LÀ NGƯỜI TÀN TẬT, NHỮNG NGƯỜI SAU KHI CAI NGHIỆN MA TÚY KHI THIẾU NGUYÊN LIỆU ĐỂ SẢN XUẤT, DOANH NGHIỆP XIN THUÊ TRỒNG TRE ĐỂ PHỤC VỤ CÔNG VIỆC TRÊN THÌ CƠ QUAN CHỨC NĂNG KHÔNG CHO.']"
      ]
     },
     "execution_count": 14,
     "metadata": {},
     "output_type": "execute_result"
    }
   ],
   "source": [
    "missing_corpus[:5]"
   ]
  },
  {
   "cell_type": "code",
   "execution_count": 15,
   "metadata": {},
   "outputs": [],
   "source": [
    "with open('still_missing.txt', 'w') as f:\n",
    "    for e in missing_corpus:\n",
    "        f.write('{}\\n'.format(e))    "
   ]
  }
 ],
 "metadata": {
  "kernelspec": {
   "display_name": "Python 3",
   "language": "python",
   "name": "python3"
  },
  "language_info": {
   "codemirror_mode": {
    "name": "ipython",
    "version": 3
   },
   "file_extension": ".py",
   "mimetype": "text/x-python",
   "name": "python",
   "nbconvert_exporter": "python",
   "pygments_lexer": "ipython3",
   "version": "3.6.8"
  }
 },
 "nbformat": 4,
 "nbformat_minor": 4
}
