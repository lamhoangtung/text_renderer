{
 "cells": [
  {
   "cell_type": "code",
   "execution_count": 1,
   "metadata": {},
   "outputs": [],
   "source": [
    "import os\n",
    "import glob\n",
    "from tqdm import tqdm\n",
    "import cv2\n",
    "import matplotlib.pyplot as plt\n",
    "import shutil"
   ]
  },
  {
   "cell_type": "code",
   "execution_count": 2,
   "metadata": {},
   "outputs": [],
   "source": [
    "raw_data_path = '/tmp/text_renderer/output/randomize_vehicle_plate_150k/'"
   ]
  },
  {
   "cell_type": "code",
   "execution_count": 3,
   "metadata": {},
   "outputs": [],
   "source": [
    "annotation = open(os.path.join(raw_data_path, 'tmp_labels.txt'), 'r').read().split('\\n')"
   ]
  },
  {
   "cell_type": "code",
   "execution_count": 4,
   "metadata": {},
   "outputs": [
    {
     "data": {
      "text/plain": [
       "''"
      ]
     },
     "execution_count": 4,
     "metadata": {},
     "output_type": "execute_result"
    }
   ],
   "source": [
    "annotation[-1]"
   ]
  },
  {
   "cell_type": "code",
   "execution_count": 5,
   "metadata": {},
   "outputs": [],
   "source": [
    "raw_tgt = []\n",
    "raw_src = []\n",
    "for anno in annotation[:-1]:\n",
    "    id, text = anno[:8], anno[9:]\n",
    "    raw_src.append('{}.png'.format(id))\n",
    "    raw_tgt.append(text)"
   ]
  },
  {
   "cell_type": "code",
   "execution_count": 6,
   "metadata": {},
   "outputs": [
    {
     "data": {
      "text/plain": [
       "150000"
      ]
     },
     "execution_count": 6,
     "metadata": {},
     "output_type": "execute_result"
    }
   ],
   "source": [
    "len(annotation[:-1])"
   ]
  },
  {
   "cell_type": "code",
   "execution_count": 7,
   "metadata": {},
   "outputs": [
    {
     "data": {
      "text/plain": [
       "['00009376.png',\n",
       " '00004688.png',\n",
       " '00023440.png',\n",
       " '00028128.png',\n",
       " '00000000.png',\n",
       " '00014064.png',\n",
       " '00018752.png',\n",
       " '00009377.png',\n",
       " '00004689.png',\n",
       " '00014065.png']"
      ]
     },
     "execution_count": 7,
     "metadata": {},
     "output_type": "execute_result"
    }
   ],
   "source": [
    "raw_src[:10]"
   ]
  },
  {
   "cell_type": "code",
   "execution_count": 8,
   "metadata": {},
   "outputs": [
    {
     "data": {
      "text/plain": [
       "['HQ 52-27',\n",
       " '65UD 159.29',\n",
       " '82DA 921.53',\n",
       " '85-T 066.78',\n",
       " '76NN 771.53',\n",
       " '26BK 626.02',\n",
       " '28II 012.79',\n",
       " '96QT 437.06',\n",
       " 'PM 77-63',\n",
       " 'AN 25-52']"
      ]
     },
     "execution_count": 8,
     "metadata": {},
     "output_type": "execute_result"
    }
   ],
   "source": [
    "raw_tgt[:10]"
   ]
  },
  {
   "cell_type": "code",
   "execution_count": 9,
   "metadata": {},
   "outputs": [],
   "source": [
    "new_dataset_path = '/tmp/final_randomize_vehicle_plate_150k/'\n",
    "os.makedirs(new_dataset_path, exist_ok=True)\n",
    "new_image_path = os.path.join(new_dataset_path, 'images')\n",
    "os.makedirs(new_image_path, exist_ok=True)"
   ]
  },
  {
   "cell_type": "code",
   "execution_count": 10,
   "metadata": {
    "scrolled": true
   },
   "outputs": [
    {
     "name": "stderr",
     "output_type": "stream",
     "text": [
      "100%|██████████| 150000/150000 [02:44<00:00, 913.98it/s] "
     ]
    },
    {
     "name": "stdout",
     "output_type": "stream",
     "text": [
      "0\n"
     ]
    },
    {
     "name": "stderr",
     "output_type": "stream",
     "text": [
      "\n"
     ]
    }
   ],
   "source": [
    "raw_data_path = '/tmp/text_renderer/output/'\n",
    "count = 0\n",
    "for file_name in tqdm(raw_src):\n",
    "    sample_path = os.path.join(raw_data_path, 'randomize_vehicle_plate_150k_augmented', file_name)\n",
    "    new_path = os.path.join(new_image_path, file_name)\n",
    "    if not os.path.exists(sample_path):\n",
    "        sample_path = os.path.join(raw_data_path, 'randomize_vehicle_plate_150k', file_name)\n",
    "        count += 1\n",
    "    try:\n",
    "        shutil.copyfile(sample_path, new_path)\n",
    "    except IsADirectoryError:\n",
    "        pass\n",
    "print(count)"
   ]
  },
  {
   "cell_type": "code",
   "execution_count": 11,
   "metadata": {},
   "outputs": [
    {
     "name": "stderr",
     "output_type": "stream",
     "text": [
      "150000it [00:00, 542793.64it/s]\n"
     ]
    }
   ],
   "source": [
    "new_src = []\n",
    "new_tgt = []\n",
    "for file_name, text in tqdm(zip(raw_src, raw_tgt)):\n",
    "    new_src.append(file_name)\n",
    "    word = [' '.join(list(word)) for word in text.split()]\n",
    "    text = ' \\; '.join(word)\n",
    "    new_tgt.append(text)"
   ]
  },
  {
   "cell_type": "code",
   "execution_count": 12,
   "metadata": {},
   "outputs": [
    {
     "name": "stdout",
     "output_type": "stream",
     "text": [
      "4 0 C V \\; 4 5 2 . 1 5\n"
     ]
    }
   ],
   "source": [
    "print(new_tgt[10])"
   ]
  },
  {
   "cell_type": "code",
   "execution_count": 13,
   "metadata": {},
   "outputs": [],
   "source": [
    "for src in new_src:\n",
    "    image_path = os.path.join(new_image_path, src)\n",
    "    if not os.path.exists(image_path):\n",
    "        print(src)"
   ]
  },
  {
   "cell_type": "code",
   "execution_count": 14,
   "metadata": {},
   "outputs": [],
   "source": [
    "with open(os.path.join(new_dataset_path,'src.txt'), 'w') as f:\n",
    "    for each in new_src:\n",
    "        f.write('{}\\n'.format(each))\n",
    "with open(os.path.join(new_dataset_path,'tgt.txt'), 'w') as f:\n",
    "    for each in new_tgt:\n",
    "        f.write('{}\\n'.format(each))"
   ]
  },
  {
   "cell_type": "code",
   "execution_count": 15,
   "metadata": {},
   "outputs": [],
   "source": [
    "def show_sample(img_path):\n",
    "    img = cv2.imread(img_path)\n",
    "    print(img.shape)\n",
    "    plt.imshow(img)"
   ]
  },
  {
   "cell_type": "code",
   "execution_count": 25,
   "metadata": {},
   "outputs": [
    {
     "name": "stdout",
     "output_type": "stream",
     "text": [
      "7 4 V W \\; 4 5 8 . 0 2\n",
      "(31, 159, 3)\n"
     ]
    },
    {
     "data": {
      "image/png": "[encoded data removed]",
      "text/plain": [
       "<Figure size 432x288 with 1 Axes>"
      ]
     },
     "metadata": {
      "needs_background": "light"
     },
     "output_type": "display_data"
    }
   ],
   "source": [
    "import random\n",
    "index = random.randint(1, 10000)\n",
    "img_path = os.path.join(new_image_path, new_src[index])\n",
    "print(new_tgt[index])\n",
    "show_sample(img_path)"
   ]
  }
 ],
 "metadata": {
  "kernelspec": {
   "display_name": "Python 3",
   "language": "python",
   "name": "python3"
  },
  "language_info": {
   "codemirror_mode": {
    "name": "ipython",
    "version": 3
   },
   "file_extension": ".py",
   "mimetype": "text/x-python",
   "name": "python",
   "nbconvert_exporter": "python",
   "pygments_lexer": "ipython3",
   "version": "3.6.9"
  }
 },
 "nbformat": 4,
 "nbformat_minor": 4
}
